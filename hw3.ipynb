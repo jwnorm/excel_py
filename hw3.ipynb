{
 "cells": [
  {
   "cell_type": "markdown",
   "metadata": {},
   "source": [
    "## Homework 3: ``openpyxl``\n",
    "\n",
    "### Overview\n",
    "\n",
    "Excel is a powerful tool, not as powerful as R or Python, but it will *always* have its place in the world of business. That is why I am taking a spreadsheet modelling class this semester (Management Science with Professor Roumani, great class). During my internship rotations with FCA, I found myself always deep in a spreadsheet of some kind or another. Last summer I even integrated some VBA automation into a weekly filing to make my manager's life easier after I left. When I return to FCA in July, I'm sure it will be much of the same story; however, I would like to integrate a more advanced tool with Excel, such as Python or R. I was looking into ``rexcel`` last summer; this is an add-in for Excel that integrates R. It seemed to be more GUI-based, but it looked interesting. I never got a chance to check it out though.\n",
    "\n",
    "Now I am looking for Excel integration in Python. I reviewed your video on ``xlrd``, ``xlwt`` and ``xlutils``. After watching it, I was quickly refreshed on your example. As you noted, it seems ``openpyxl`` is the rising package for Excel manipulation in Python. Last time we spoke you also mentioned that Python could be integrated with Excel natively, which I'm sure would make a lot of people very happy. Fingers crossed!\n",
    "\n",
    "This homework submission will be entirely derived from chapter 12 of [*Automate the Boring Stuff*](https://automatetheboringstuff.com/chapter12/) (*AtBS*). The first section will be me working through the book examples, while later I will tackle the questions and suggested problems from the text.\n",
    "\n",
    "### Examples\n",
    "\n",
    "First, let's import ``openpyxl`` and learn a bit more about it."
   ]
  },
  {
   "cell_type": "code",
   "execution_count": 16,
   "metadata": {},
   "outputs": [],
   "source": [
    "import openpyxl"
   ]
  },
  {
   "cell_type": "markdown",
   "metadata": {},
   "source": [
    "Let's load a workbook. This would be where ``xlrd`` would be needed previously."
   ]
  },
  {
   "cell_type": "code",
   "execution_count": 17,
   "metadata": {},
   "outputs": [
    {
     "data": {
      "text/plain": [
       "openpyxl.workbook.workbook.Workbook"
      ]
     },
     "execution_count": 17,
     "metadata": {},
     "output_type": "execute_result"
    }
   ],
   "source": [
    "wb = openpyxl.load_workbook('data/example.xlsx')\n",
    "type(wb)"
   ]
  },
  {
   "cell_type": "markdown",
   "metadata": {},
   "source": [
    "We have created a spreadsheet object of type \"Workbook\". This is an Excel workbook.  \n",
    "\n",
    "I haven't previewed this file so let's see how it is structured."
   ]
  },
  {
   "cell_type": "code",
   "execution_count": 18,
   "metadata": {},
   "outputs": [
    {
     "data": {
      "text/plain": [
       "['Sheet1', 'Sheet2', 'Sheet3']"
      ]
     },
     "execution_count": 18,
     "metadata": {},
     "output_type": "execute_result"
    }
   ],
   "source": [
    "# wb.get_sheet_names() is the suggested way to do this by the text, but it has been deprecated\n",
    "# Below is the new way to do this \n",
    "wb.sheetnames"
   ]
  },
  {
   "cell_type": "code",
   "execution_count": 19,
   "metadata": {},
   "outputs": [
    {
     "name": "stdout",
     "output_type": "stream",
     "text": [
      "Cols:\t 3\n",
      "Rows:\t 7\n"
     ]
    }
   ],
   "source": [
    "# wb.get_sheet_by_name('Sheet1') is deprecated, below is the revised version\n",
    "sheet1 = wb['Sheet1']\n",
    "print('Cols:\\t', sheet1.max_column)\n",
    "print('Rows:\\t', sheet1.max_row)"
   ]
  },
  {
   "cell_type": "markdown",
   "metadata": {},
   "source": [
    "Now that we know what the general structure of the workbook is, let's look at the individual cells."
   ]
  },
  {
   "cell_type": "code",
   "execution_count": 20,
   "metadata": {},
   "outputs": [
    {
     "data": {
      "text/plain": [
       "<Cell 'Sheet1'.B1>"
      ]
     },
     "execution_count": 20,
     "metadata": {},
     "output_type": "execute_result"
    }
   ],
   "source": [
    "sheet1['B1']"
   ]
  },
  {
   "cell_type": "markdown",
   "metadata": {},
   "source": [
    "Okay, it seems we just accessed the cell. But this is not what we want. What is in the cell? It turns out, similar to VBA, were are looking for its *value*."
   ]
  },
  {
   "cell_type": "code",
   "execution_count": 21,
   "metadata": {},
   "outputs": [
    {
     "data": {
      "text/plain": [
       "'Apples'"
      ]
     },
     "execution_count": 21,
     "metadata": {},
     "output_type": "execute_result"
    }
   ],
   "source": [
    "sheet1['B1'].value"
   ]
  },
  {
   "cell_type": "markdown",
   "metadata": {},
   "source": [
    "Can we change the value using Python? Well let's see."
   ]
  },
  {
   "cell_type": "code",
   "execution_count": 22,
   "metadata": {},
   "outputs": [
    {
     "data": {
      "text/plain": [
       "'Durian'"
      ]
     },
     "execution_count": 22,
     "metadata": {},
     "output_type": "execute_result"
    }
   ],
   "source": [
    "sheet1['B1'] = 'Durian'\n",
    "sheet1['B1'].value"
   ]
  },
  {
   "cell_type": "markdown",
   "metadata": {},
   "source": [
    "What other attributes do cells have?"
   ]
  },
  {
   "cell_type": "code",
   "execution_count": 23,
   "metadata": {},
   "outputs": [
    {
     "name": "stdout",
     "output_type": "stream",
     "text": [
      "Col:\t B\n",
      "Row:\t 1\n",
      "Coord:\t B1\n"
     ]
    }
   ],
   "source": [
    "print('Col:\\t', sheet1['B1'].column)\n",
    "print('Row:\\t', sheet1['B1'].row)\n",
    "print('Coord:\\t', sheet1['B1'].coordinate)"
   ]
  },
  {
   "cell_type": "markdown",
   "metadata": {},
   "source": [
    "Let's see what is in each column."
   ]
  },
  {
   "cell_type": "code",
   "execution_count": 24,
   "metadata": {},
   "outputs": [
    {
     "name": "stdout",
     "output_type": "stream",
     "text": [
      "[datetime.datetime(2015, 4, 5, 13, 34, 2), 'Durian', 73]\n",
      "[datetime.datetime(2015, 4, 5, 3, 41, 23), 'Cherries', 85]\n",
      "[datetime.datetime(2015, 4, 6, 12, 46, 51), 'Pears', 14]\n",
      "[datetime.datetime(2015, 4, 8, 8, 59, 43), 'Oranges', 52]\n",
      "[datetime.datetime(2015, 4, 10, 2, 7), 'Apples', 152]\n",
      "[datetime.datetime(2015, 4, 10, 18, 10, 37), 'Bananas', 23]\n",
      "[datetime.datetime(2015, 4, 10, 2, 40, 46), 'Strawberries', 98]\n"
     ]
    }
   ],
   "source": [
    "for row in sheet1.iter_rows():\n",
    "    print([cell.value for cell in row])"
   ]
  },
  {
   "cell_type": "markdown",
   "metadata": {},
   "source": [
    "It appears that the first column is a datetime value, the next is a type of fruit, and the third is a numeric column.  \n",
    "\n",
    "Alternatively, it is often easier to iterate using the integer values of the columns instead of the alphabetic ones."
   ]
  },
  {
   "cell_type": "code",
   "execution_count": 25,
   "metadata": {},
   "outputs": [
    {
     "name": "stdout",
     "output_type": "stream",
     "text": [
      "1 2015-04-05 13:34:02\n",
      "2 Durian\n"
     ]
    }
   ],
   "source": [
    "for i in range(1, sheet1.max_column):\n",
    "    print(i, sheet1.cell(row = 1, column = i).value)"
   ]
  },
  {
   "cell_type": "markdown",
   "metadata": {},
   "source": [
    "``openpyxl`` can also write Excel files, like with ``xlwt``. Let's create a blank workbook."
   ]
  },
  {
   "cell_type": "code",
   "execution_count": 26,
   "metadata": {},
   "outputs": [
    {
     "data": {
      "text/plain": [
       "['Sheet']"
      ]
     },
     "execution_count": 26,
     "metadata": {},
     "output_type": "execute_result"
    }
   ],
   "source": [
    "new_book = openpyxl.Workbook()\n",
    "new_book.sheetnames"
   ]
  },
  {
   "cell_type": "markdown",
   "metadata": {},
   "source": [
    "We created an empty workbook that only has one sheet named \"Sheet\". Let's add some content to the file and then write it out."
   ]
  },
  {
   "cell_type": "code",
   "execution_count": 27,
   "metadata": {},
   "outputs": [],
   "source": [
    "new_book['Sheet']['A1'].value = 100\n",
    "new_book.save('test.xlsx')"
   ]
  },
  {
   "cell_type": "markdown",
   "metadata": {},
   "source": [
    "You can view the new file [here](test.xlsx), perhaps not in Jupyter Lab though.\n",
    "\n",
    "``openpyxl`` also supports more advanced Excel editing. One big one is changing the font."
   ]
  },
  {
   "cell_type": "code",
   "execution_count": 28,
   "metadata": {},
   "outputs": [],
   "source": [
    "from openpyxl.styles import Font"
   ]
  },
  {
   "cell_type": "markdown",
   "metadata": {},
   "source": [
    "``Font`` supports three kwargs: ``name`` (str), ``size`` (int), ``bold`` (bool), and ``italic``(bool). Those familiar with Excel can quickly adjust the style of a given cell to that of their choosing. Let's move back to the original workbook and edit a cell's format."
   ]
  },
  {
   "cell_type": "code",
   "execution_count": 29,
   "metadata": {},
   "outputs": [],
   "source": [
    "sheet1['B1'].font = Font(name = 'Courier New', size = 16,\n",
    "                         bold = True, italic = False)\n",
    "sheet1['B1'] = 'Durian'"
   ]
  },
  {
   "cell_type": "markdown",
   "metadata": {},
   "source": [
    "One thing that is missing from the example file is column headers in the first row. Let's add this to Sheet1. Similarly, rows can also be deleted. While we're at it, let's create a freeze pane."
   ]
  },
  {
   "cell_type": "code",
   "execution_count": 30,
   "metadata": {},
   "outputs": [],
   "source": [
    "sheet1.insert_rows(1)\n",
    "sheet1['A1'] = 'Date'\n",
    "sheet1['B1'] = 'Type'\n",
    "sheet1['C1'] = 'Frequency'\n",
    "sheet1.freeze_panes = 'B2'"
   ]
  },
  {
   "cell_type": "markdown",
   "metadata": {},
   "source": [
    "``openpyxl`` can also alter formulas. Much like VBA, formulas are just strings. Let's sum up the values in the third column of Sheet1."
   ]
  },
  {
   "cell_type": "code",
   "execution_count": 31,
   "metadata": {},
   "outputs": [],
   "source": [
    "sheet1['B9'] = 'Total'\n",
    "sheet1['C9'] = '=sum(C2:C8)'"
   ]
  },
  {
   "cell_type": "markdown",
   "metadata": {},
   "source": [
    "Cells can also be merged using ``openpyxl``. Let's try it out."
   ]
  },
  {
   "cell_type": "code",
   "execution_count": 32,
   "metadata": {},
   "outputs": [],
   "source": [
    "sheet1['E1'] = 'Three merged cells'\n",
    "sheet1.merge_cells('E1:G1')"
   ]
  },
  {
   "cell_type": "markdown",
   "metadata": {},
   "source": [
    "The dimensions of rows and columns can also be edited:"
   ]
  },
  {
   "cell_type": "code",
   "execution_count": 33,
   "metadata": {},
   "outputs": [],
   "source": [
    "sheet1.row_dimensions[1].height = 70\n",
    "sheet1.column_dimensions['B'].width = 20"
   ]
  },
  {
   "cell_type": "markdown",
   "metadata": {},
   "source": [
    "This module can also create charts; however, it cannot load them. So if a spreadsheet is loaded with a chart and then saved, the chart is effectively deleted.  \n",
    "\n",
    "Charts require a reference object, which is the range of cells to be plotted. In this case, we have two series objects: the categories and the actual numeric data."
   ]
  },
  {
   "cell_type": "code",
   "execution_count": 34,
   "metadata": {},
   "outputs": [],
   "source": [
    "# create reference objects\n",
    "fruit = openpyxl.chart.Reference(sheet1, min_col = 2, min_row = 2, max_col = 2, max_row = 8)\n",
    "data = openpyxl.chart.Reference(sheet1, min_col = 3, min_row = 2, max_col = 3, max_row = 8)\n",
    "\n",
    "# create chart\n",
    "chart = openpyxl.chart.BarChart()\n",
    "chart.title = 'Frequencies of Fruits'\n",
    "chart.x_axis.title = 'Type'\n",
    "chart.y_axis.title = 'Frequency'\n",
    "chart.add_data(data)\n",
    "chart.set_categories(fruit)\n",
    "sheet1.add_chart(chart, 'C12')\n",
    "\n",
    "# save sheet\n",
    "wb.save('example_copy.xlsx')"
   ]
  },
  {
   "cell_type": "markdown",
   "metadata": {},
   "source": [
    "Creating the reference objects is somewhat confusing; however, once that is complete, editing the chart is very similar to the ``matplotlib`` API.  \n",
    "\n",
    "This is everything that *AtBS* covers on Excel. You can view the edited example [xlsx file](example_copy.xlsx) to confirm the changes from the original. \n",
    "\n",
    "### Project: Reading Data from a Spreadsheet\n",
    "\n",
    "The texts suggests creating a file that essentially creates a pivot table using ``openpyxl``, except the code is very verbose and unneccesary, especially in light of ``pandas``. Additionally, the output file is a .py file that can only be accessed using Python. \n",
    "\n",
    "Here is my interpretation of the problem:"
   ]
  },
  {
   "cell_type": "code",
   "execution_count": 36,
   "metadata": {},
   "outputs": [],
   "source": [
    "import pandas as pd"
   ]
  },
  {
   "cell_type": "code",
   "execution_count": 38,
   "metadata": {},
   "outputs": [],
   "source": [
    "wb = openpyxl.load_workbook('data/censuspopdata.xlsx')\n",
    "ws = wb['Population by Census Tract']\n",
    "\n",
    "data = ws.values\n",
    "header = next(data)[0:]\n",
    "\n",
    "df = pd.DataFrame(data, columns=header)"
   ]
  },
  {
   "cell_type": "markdown",
   "metadata": {},
   "source": [
    "It is simpler than I thought to turn an Excel file into a ``pandas`` data frame."
   ]
  },
  {
   "cell_type": "code",
   "execution_count": 64,
   "metadata": {},
   "outputs": [
    {
     "data": {
      "text/html": [
       "<div>\n",
       "<style scoped>\n",
       "    .dataframe tbody tr th:only-of-type {\n",
       "        vertical-align: middle;\n",
       "    }\n",
       "\n",
       "    .dataframe tbody tr th {\n",
       "        vertical-align: top;\n",
       "    }\n",
       "\n",
       "    .dataframe thead th {\n",
       "        text-align: right;\n",
       "    }\n",
       "</style>\n",
       "<table border=\"1\" class=\"dataframe\">\n",
       "  <thead>\n",
       "    <tr style=\"text-align: right;\">\n",
       "      <th></th>\n",
       "      <th>CensusTract</th>\n",
       "      <th>State</th>\n",
       "      <th>County</th>\n",
       "      <th>POP2010</th>\n",
       "    </tr>\n",
       "  </thead>\n",
       "  <tbody>\n",
       "    <tr>\n",
       "      <th>0</th>\n",
       "      <td>01001020100</td>\n",
       "      <td>AL</td>\n",
       "      <td>Autauga</td>\n",
       "      <td>1912</td>\n",
       "    </tr>\n",
       "    <tr>\n",
       "      <th>1</th>\n",
       "      <td>01001020200</td>\n",
       "      <td>AL</td>\n",
       "      <td>Autauga</td>\n",
       "      <td>2170</td>\n",
       "    </tr>\n",
       "    <tr>\n",
       "      <th>2</th>\n",
       "      <td>01001020300</td>\n",
       "      <td>AL</td>\n",
       "      <td>Autauga</td>\n",
       "      <td>3373</td>\n",
       "    </tr>\n",
       "    <tr>\n",
       "      <th>3</th>\n",
       "      <td>01001020400</td>\n",
       "      <td>AL</td>\n",
       "      <td>Autauga</td>\n",
       "      <td>4386</td>\n",
       "    </tr>\n",
       "    <tr>\n",
       "      <th>4</th>\n",
       "      <td>01001020500</td>\n",
       "      <td>AL</td>\n",
       "      <td>Autauga</td>\n",
       "      <td>10766</td>\n",
       "    </tr>\n",
       "    <tr>\n",
       "      <th>5</th>\n",
       "      <td>01001020600</td>\n",
       "      <td>AL</td>\n",
       "      <td>Autauga</td>\n",
       "      <td>3668</td>\n",
       "    </tr>\n",
       "    <tr>\n",
       "      <th>6</th>\n",
       "      <td>01001020700</td>\n",
       "      <td>AL</td>\n",
       "      <td>Autauga</td>\n",
       "      <td>2891</td>\n",
       "    </tr>\n",
       "    <tr>\n",
       "      <th>7</th>\n",
       "      <td>01001020801</td>\n",
       "      <td>AL</td>\n",
       "      <td>Autauga</td>\n",
       "      <td>3081</td>\n",
       "    </tr>\n",
       "    <tr>\n",
       "      <th>8</th>\n",
       "      <td>01001020802</td>\n",
       "      <td>AL</td>\n",
       "      <td>Autauga</td>\n",
       "      <td>10435</td>\n",
       "    </tr>\n",
       "    <tr>\n",
       "      <th>9</th>\n",
       "      <td>01001020900</td>\n",
       "      <td>AL</td>\n",
       "      <td>Autauga</td>\n",
       "      <td>5675</td>\n",
       "    </tr>\n",
       "  </tbody>\n",
       "</table>\n",
       "</div>"
      ],
      "text/plain": [
       "   CensusTract State   County  POP2010\n",
       "0  01001020100    AL  Autauga     1912\n",
       "1  01001020200    AL  Autauga     2170\n",
       "2  01001020300    AL  Autauga     3373\n",
       "3  01001020400    AL  Autauga     4386\n",
       "4  01001020500    AL  Autauga    10766\n",
       "5  01001020600    AL  Autauga     3668\n",
       "6  01001020700    AL  Autauga     2891\n",
       "7  01001020801    AL  Autauga     3081\n",
       "8  01001020802    AL  Autauga    10435\n",
       "9  01001020900    AL  Autauga     5675"
      ]
     },
     "execution_count": 64,
     "metadata": {},
     "output_type": "execute_result"
    }
   ],
   "source": [
    "df.head(10)"
   ]
  },
  {
   "cell_type": "code",
   "execution_count": 65,
   "metadata": {},
   "outputs": [
    {
     "data": {
      "text/html": [
       "<div>\n",
       "<style scoped>\n",
       "    .dataframe tbody tr th:only-of-type {\n",
       "        vertical-align: middle;\n",
       "    }\n",
       "\n",
       "    .dataframe tbody tr th {\n",
       "        vertical-align: top;\n",
       "    }\n",
       "\n",
       "    .dataframe thead th {\n",
       "        text-align: right;\n",
       "    }\n",
       "</style>\n",
       "<table border=\"1\" class=\"dataframe\">\n",
       "  <thead>\n",
       "    <tr style=\"text-align: right;\">\n",
       "      <th></th>\n",
       "      <th>State</th>\n",
       "      <th>County</th>\n",
       "      <th>Census_Tract</th>\n",
       "      <th>Population</th>\n",
       "    </tr>\n",
       "  </thead>\n",
       "  <tbody>\n",
       "    <tr>\n",
       "      <th>0</th>\n",
       "      <td>AK</td>\n",
       "      <td>Aleutians East</td>\n",
       "      <td>3141</td>\n",
       "      <td>1</td>\n",
       "    </tr>\n",
       "    <tr>\n",
       "      <th>1</th>\n",
       "      <td>AK</td>\n",
       "      <td>Aleutians West</td>\n",
       "      <td>5561</td>\n",
       "      <td>2</td>\n",
       "    </tr>\n",
       "    <tr>\n",
       "      <th>2</th>\n",
       "      <td>AK</td>\n",
       "      <td>Anchorage</td>\n",
       "      <td>291826</td>\n",
       "      <td>55</td>\n",
       "    </tr>\n",
       "    <tr>\n",
       "      <th>3</th>\n",
       "      <td>AK</td>\n",
       "      <td>Bethel</td>\n",
       "      <td>17013</td>\n",
       "      <td>3</td>\n",
       "    </tr>\n",
       "    <tr>\n",
       "      <th>4</th>\n",
       "      <td>AK</td>\n",
       "      <td>Bristol Bay</td>\n",
       "      <td>997</td>\n",
       "      <td>1</td>\n",
       "    </tr>\n",
       "    <tr>\n",
       "      <th>5</th>\n",
       "      <td>AK</td>\n",
       "      <td>Denali</td>\n",
       "      <td>1826</td>\n",
       "      <td>1</td>\n",
       "    </tr>\n",
       "    <tr>\n",
       "      <th>6</th>\n",
       "      <td>AK</td>\n",
       "      <td>Dillingham</td>\n",
       "      <td>4847</td>\n",
       "      <td>2</td>\n",
       "    </tr>\n",
       "    <tr>\n",
       "      <th>7</th>\n",
       "      <td>AK</td>\n",
       "      <td>Fairbanks North Star</td>\n",
       "      <td>97581</td>\n",
       "      <td>19</td>\n",
       "    </tr>\n",
       "    <tr>\n",
       "      <th>8</th>\n",
       "      <td>AK</td>\n",
       "      <td>Haines</td>\n",
       "      <td>2508</td>\n",
       "      <td>1</td>\n",
       "    </tr>\n",
       "    <tr>\n",
       "      <th>9</th>\n",
       "      <td>AK</td>\n",
       "      <td>Hoonah-Angoon</td>\n",
       "      <td>2150</td>\n",
       "      <td>2</td>\n",
       "    </tr>\n",
       "  </tbody>\n",
       "</table>\n",
       "</div>"
      ],
      "text/plain": [
       "  State                County  Census_Tract  Population\n",
       "0    AK        Aleutians East          3141           1\n",
       "1    AK        Aleutians West          5561           2\n",
       "2    AK             Anchorage        291826          55\n",
       "3    AK                Bethel         17013           3\n",
       "4    AK           Bristol Bay           997           1\n",
       "5    AK                Denali          1826           1\n",
       "6    AK            Dillingham          4847           2\n",
       "7    AK  Fairbanks North Star         97581          19\n",
       "8    AK                Haines          2508           1\n",
       "9    AK         Hoonah-Angoon          2150           2"
      ]
     },
     "execution_count": 65,
     "metadata": {},
     "output_type": "execute_result"
    }
   ],
   "source": [
    "df2 = df[['State','County','POP2010']].groupby(by = ['State', 'County']).agg(['sum', 'count'])\n",
    "df2.reset_index(inplace = True)\n",
    "df2.columns = ['State','County','Census_Tract', 'Population']\n",
    "df2.head(10)"
   ]
  },
  {
   "cell_type": "markdown",
   "metadata": {},
   "source": [
    "And it is that simple! I also created a [Python script](project.py) that performs the same task, except it is generalized. This way in 2020, the same analysis can be performed much easier.\n",
    "\n",
    "You can compare my script to the one supplied by the text [here](data/readCensusExcel.py). I think you'll agree mine is simpler and the output is more applicable to the problem at hand.\n",
    "\n",
    "### Conclusions\n",
    "\n",
    "Going into this section, I believed ``openpyxl`` was the answer to all programmatic tasks in Excel; however, this is not the case. That is not to say that is not powerful, it is just more useful for repetitive tasks and data cleanup. I believe I will utilize it moving forward; however, VBA will likely still be required at times. Hopefully, the Python-Excel integration kills VBA.\n",
    "\n",
    "**Next Steps:**  \n",
    "My final project is the last submission for this class. It will be an extension of the JV analysis done previously. It will feature a much more robust EDA section with greater analysis. I am not especially interested in building a classification model; the ultimate goal is to understand why JV is so great so consistently. To understand the this, he will need to be compared to other starting pitchers."
   ]
  }
 ],
 "metadata": {
  "kernelspec": {
   "display_name": "Python 3",
   "language": "python",
   "name": "python3"
  },
  "language_info": {
   "codemirror_mode": {
    "name": "ipython",
    "version": 3
   },
   "file_extension": ".py",
   "mimetype": "text/x-python",
   "name": "python",
   "nbconvert_exporter": "python",
   "pygments_lexer": "ipython3",
   "version": "3.7.1"
  }
 },
 "nbformat": 4,
 "nbformat_minor": 2
}
